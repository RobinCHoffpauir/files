{
 "cells": [
  {
   "cell_type": "markdown",
   "id": "db021d7c",
   "metadata": {},
   "source": [
    "<h1> This Notebook will be a quick description of how I attain my statistics for modelling from Pybaseball </h1>"
   ]
  },
  {
   "cell_type": "code",
   "execution_count": 29,
   "id": "d8dda743",
   "metadata": {},
   "outputs": [],
   "source": [
    "##Import modules\n",
    "import pybaseball as pyb\n",
    "import seaborn as sns\n",
    "import pandas as pd\n",
    "import matplotlib.pyplot as plt\n"
   ]
  },
  {
   "cell_type": "code",
   "execution_count": 30,
   "id": "b501976c",
   "metadata": {},
   "outputs": [],
   "source": [
    "##get list of team names\n",
    "teams = pyb.teams()\n",
    "##now filter the list for the modern era\n",
    "teams = teams[teams['yearID']>=1995]"
   ]
  },
  {
   "cell_type": "code",
   "execution_count": 38,
   "id": "22d78fd5",
   "metadata": {},
   "outputs": [],
   "source": [
    "df = pd.DataFrame()\n",
    "for team in teams['franchID']:\n",
    "    x=pd.Series(team)\n",
    "    df.append(x,ignore_index=True)"
   ]
  },
  {
   "cell_type": "code",
   "execution_count": 39,
   "id": "02264804",
   "metadata": {},
   "outputs": [
    {
     "name": "stdout",
     "output_type": "stream",
     "text": [
      "Empty DataFrame\n",
      "Columns: []\n",
      "Index: []\n"
     ]
    }
   ],
   "source": [
    "print(df)"
   ]
  },
  {
   "cell_type": "code",
   "execution_count": null,
   "id": "215526fd",
   "metadata": {},
   "outputs": [],
   "source": []
  }
 ],
 "metadata": {
  "kernelspec": {
   "display_name": "Python 3",
   "language": "python",
   "name": "python3"
  },
  "language_info": {
   "codemirror_mode": {
    "name": "ipython",
    "version": 3
   },
   "file_extension": ".py",
   "mimetype": "text/x-python",
   "name": "python",
   "nbconvert_exporter": "python",
   "pygments_lexer": "ipython3",
   "version": "3.8.8"
  }
 },
 "nbformat": 4,
 "nbformat_minor": 5
}
