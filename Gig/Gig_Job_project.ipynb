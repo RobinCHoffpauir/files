{
 "cells": [
  {
   "cell_type": "markdown",
   "id": "04802d31",
   "metadata": {},
   "source": [
    "Imports for building GUI Tkinter and build placeholder and root(mainframe)"
   ]
  },
  {
   "cell_type": "code",
   "execution_count": 15,
   "id": "b5d74847",
   "metadata": {},
   "outputs": [],
   "source": [
    "import tkinter as tk\n",
    "from tkinter import *\n",
    "from tkinter import ttk\n",
    "import pandas as pd\n",
    "def save_csv():\n",
    "    file=df.to_csv('GigForm.csv')\n",
    "    \n",
    "def nothing():\n",
    "    x=0\n",
    "    \n",
    "\n"
   ]
  },
  {
   "cell_type": "markdown",
   "id": "e06c9c72",
   "metadata": {},
   "source": [
    "Create empty dataframe and a Root window to place all widgets inside of, build menu as well"
   ]
  },
  {
   "cell_type": "code",
   "execution_count": 16,
   "id": "57704409",
   "metadata": {
    "scrolled": false
   },
   "outputs": [],
   "source": [
    "df=pd.DataFrame()\n",
    "df['Gig #']=0\n",
    "df['Date Booked']=0\n",
    "df['Date of Service']=0\n",
    "df['Time of Service']=0\n",
    "df['Duration(estimate)']=0"
   ]
  },
  {
   "cell_type": "markdown",
   "id": "32a1133b",
   "metadata": {},
   "source": [
    "Build grid matrix size (think connect4, its coordinates for where your widget will be placed at."
   ]
  },
  {
   "cell_type": "code",
   "execution_count": 17,
   "id": "e13ff3ba",
   "metadata": {},
   "outputs": [],
   "source": [
    "root=Tk()\n",
    "root.title('New Job/Gig Details')\n",
    "mainframe=ttk.Frame(root)\n",
    "mainframe.grid(column=4,row=20,sticky=(N, W, E, S))\n",
    "mainframe['relief']='sunken'\n",
    "root.columnconfigure(0,weight=1)\n",
    "root.rowconfigure(0, weight=1)\n",
    "\n",
    "\n"
   ]
  },
  {
   "cell_type": "code",
   "execution_count": 18,
   "id": "e7c096e8",
   "metadata": {
    "scrolled": true
   },
   "outputs": [],
   "source": [
    "menubar = Menu(root)\n",
    "root.config(menu=menubar)\n",
    "filemenu=Menu(menubar)\n",
    "filemenu.add_command(label='New', command=nothing)\n",
    "filemenu.add_command(label='Open', command=nothing)\n",
    "filemenu.add_command(label='Save', command=save_csv())\n",
    "filemenu.add_separator()\n",
    "filemenu.add_command(label='Exit', command=root.quit)\n",
    "menubar.add_cascade(label='File', menu=filemenu)"
   ]
  },
  {
   "cell_type": "markdown",
   "id": "35989c2f",
   "metadata": {},
   "source": [
    "building first widgets and packing them to the window\n"
   ]
  },
  {
   "cell_type": "code",
   "execution_count": 19,
   "id": "7b53f2ac",
   "metadata": {},
   "outputs": [],
   "source": [
    "date_booked=StringVar()\n",
    "date_booked_entry=ttk.Combobox(mainframe,width=9,textvariable=date_booked)\n",
    "date_booked_entry.grid(column=2,row=1,sticky=(W,E))\n",
    "date_service=StringVar()\n",
    "date_service=ttk.Combobox(mainframe,width=9,textvariable=date_service)\n",
    "date_service.grid(column=4,row=1,sticky=(W,E))\n",
    "time_service=StringVar()\n",
    "time_service=ttk.Combobox(mainframe,width=9,textvariable=date_service)\n",
    "time_service.grid(column=2,row=3,sticky=(W,E))\n",
    "job_notes=Text(mainframe,width=50,height=2,foreground='blue',background='gray')\n",
    "job_notes_text=job_notes.get('1.0','end')\n",
    "job_notes.grid(column=2,row=14)\n",
    "duration=Text(mainframe,width=50,height=2)\n",
    "duration_text=job_notes.get('1.0','end')\n",
    "duration.grid(column=2,row=4)\n"
   ]
  },
  {
   "cell_type": "markdown",
   "id": "530b2a7c",
   "metadata": {},
   "source": [
    "build all labels and place them in the widget with the .grid() func. "
   ]
  },
  {
   "cell_type": "code",
   "execution_count": 20,
   "id": "310c6dc0",
   "metadata": {},
   "outputs": [],
   "source": [
    "ttk.Label(mainframe,text='Date Booked').grid(column=1,row=1,sticky=(W,E))\n",
    "ttk.Label(mainframe,text='Date of Service').grid(column=3,row=1,sticky=(W,E))\n",
    "ttk.Label(mainframe,text='Time of Service').grid(column=1,row=3,sticky=(W,E))\n",
    "ttk.Label(mainframe,text='Duration(estimate)').grid(column=1,row=4,sticky=(W,E))\n",
    "ttk.Label(mainframe,text='Address/City/State').grid(column=1,row=5,sticky=(W,E))\n",
    "ttk.Label(mainframe,text='Client Name').grid(column=1,row=6,sticky=(W,E))\n",
    "ttk.Label(mainframe,text='Rate').grid(column=1,row=7,sticky=(W,E))\n",
    "ttk.Label(mainframe,text='Service Type').grid(column=1,row=8,sticky=(W,E))\n",
    "ttk.Label(mainframe,text='Job #').grid(column=1,row=9,sticky=(W,E))\n",
    "ttk.Label(mainframe,text='Directive/Goal').grid(column=1,row=10,sticky=(W,E))\n",
    "ttk.Label(mainframe,text='Size').grid(column=1,row=11,sticky=(W,E))\n",
    "ttk.Label(mainframe,text='Quantity').grid(column=1,row=12,sticky=(W,E))\n",
    "ttk.Label(mainframe,text='Condition').grid(column=1,row=13,sticky=(W,E))\n",
    "ttk.Label(mainframe,text='Notes').grid(column=1,row=14,sticky=(W,E))\n",
    "ttk.Label(mainframe,text='Equipment').grid(column=1,row=15,sticky=(W,E))\n",
    "ttk.Label(mainframe,text='Purchases').grid(column=1,row=16,sticky=(W,E))\n",
    "\n",
    "\n",
    "\n",
    "for child in mainframe.winfo_children():\n",
    "    child.grid_configure(padx=5, pady=5)\n",
    "    \n",
    "\n",
    "\n",
    "root.mainloop()\n"
   ]
  },
  {
   "cell_type": "markdown",
   "id": "1b49f926",
   "metadata": {},
   "source": [
    "****Need to link a Csv file with package to be the main file that pandas opens and writes entrys to csv with save to csv function\n",
    "\n",
    "                        "
   ]
  }
 ],
 "metadata": {
  "kernelspec": {
   "display_name": "Python 3",
   "language": "python",
   "name": "python3"
  },
  "language_info": {
   "codemirror_mode": {
    "name": "ipython",
    "version": 3
   },
   "file_extension": ".py",
   "mimetype": "text/x-python",
   "name": "python",
   "nbconvert_exporter": "python",
   "pygments_lexer": "ipython3",
   "version": "3.8.8"
  }
 },
 "nbformat": 4,
 "nbformat_minor": 5
}
